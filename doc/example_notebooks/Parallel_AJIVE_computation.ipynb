{
 "cells": [
  {
   "cell_type": "markdown",
   "metadata": {},
   "source": [
    "The Wedin bound and random direction samples are embarassingly parallel and can be the main computational bottleneck in AJIVE. These can be done in parallel in two different ways: using multiple cores on one computer or over multiple computers. The AJIVE object easily handles the former of these using `sklearn.externals.joblib.Parallel`. For the latter, the user can precompute the wedin and random direction samples then input these to the AJIVE object.\n",
    "\n",
    "This notebook gives examples of both."
   ]
  },
  {
   "cell_type": "code",
   "execution_count": 1,
   "metadata": {
    "collapsed": true
   },
   "outputs": [],
   "source": [
    "import numpy as np\n",
    "\n",
    "from jive.ajive_fig2 import generate_data_ajive_fig2\n",
    "from jive.AJIVE import AJIVE\n",
    "from jive.PCA import PCA"
   ]
  },
  {
   "cell_type": "code",
   "execution_count": 2,
   "metadata": {
    "collapsed": true
   },
   "outputs": [],
   "source": [
    "X, Y = generate_data_ajive_fig2()"
   ]
  },
  {
   "cell_type": "markdown",
   "metadata": {},
   "source": [
    "# Parallelizing over cores in a computer (esay!)"
   ]
  },
  {
   "cell_type": "code",
   "execution_count": 3,
   "metadata": {},
   "outputs": [
    {
     "name": "stdout",
     "output_type": "stream",
     "text": [
      "CPU times: user 13.5 s, sys: 1.85 s, total: 15.3 s\n",
      "Wall time: 4.25 s\n",
      "CPU times: user 793 ms, sys: 243 ms, total: 1.04 s\n",
      "Wall time: 4.38 s\n"
     ]
    },
    {
     "data": {
      "text/plain": [
       "AJIVE, joint rank: 1, block 0 indiv rank: 1, block 1 indiv rank: 2"
      ]
     },
     "execution_count": 3,
     "metadata": {},
     "output_type": "execute_result"
    }
   ],
   "source": [
    "# no parallelization\n",
    "%time AJIVE(init_signal_ranks=[2, 3]).fit(blocks=[X, Y])\n",
    "\n",
    "# using parallelization, simply set n_jobs parameter\n",
    "%time AJIVE(init_signal_ranks=[2, 3], n_jobs=-1).fit(blocks=[X, Y])"
   ]
  },
  {
   "cell_type": "markdown",
   "metadata": {},
   "source": [
    "# Parallelizing over computers (still pretty easy)"
   ]
  },
  {
   "cell_type": "markdown",
   "metadata": {},
   "source": [
    "#### pre-computing the initial_svd\n",
    "\n",
    "This is not scrictly necessary for parallel computation, but will make AJIVE faster."
   ]
  },
  {
   "cell_type": "code",
   "execution_count": 4,
   "metadata": {},
   "outputs": [
    {
     "name": "stdout",
     "output_type": "stream",
     "text": [
      "3\n"
     ]
    },
    {
     "data": {
      "text/plain": [
       "AJIVE, joint rank: 1, block 0 indiv rank: 1, block 1 indiv rank: 2"
      ]
     },
     "execution_count": 4,
     "metadata": {},
     "output_type": "execute_result"
    }
   ],
   "source": [
    "x_pca = PCA(n_components=5).fit(X)\n",
    "y_pca = PCA(n_components=10).fit(Y)\n",
    "\n",
    "# pca.get_UDV() returns scores, singular values, loadings i.e. a three tuple\n",
    "print(len(x_pca.get_UDV()))\n",
    "\n",
    "AJIVE(init_signal_ranks=[2, 3]).fit(blocks=[X, Y],\n",
    "                                    precomp_init_svd=[x_pca.get_UDV(), y_pca.get_UDV()])"
   ]
  },
  {
   "cell_type": "markdown",
   "metadata": {},
   "source": [
    "#### sample wedin and random directions"
   ]
  },
  {
   "cell_type": "code",
   "execution_count": 5,
   "metadata": {
    "collapsed": true
   },
   "outputs": [],
   "source": [
    "from jive.wedin_bound import get_wedin_samples\n",
    "from jive.random_direction import sample_randdir"
   ]
  },
  {
   "cell_type": "code",
   "execution_count": 6,
   "metadata": {
    "collapsed": true
   },
   "outputs": [],
   "source": [
    "def one_computer_wedin_samples(blocks, precomp_init_svd, init_signal_ranks, R):\n",
    "    wedin_samples = {}\n",
    "    for bn in blocks.keys():\n",
    "        wedin_samples[bn] = get_wedin_samples(X=blocks[bn],\n",
    "                                              U=precomp_init_svd[bn][0], # scores\n",
    "                                              D=precomp_init_svd[bn][1], # svals\n",
    "                                              V=precomp_init_svd[bn][2], # loadings\n",
    "                                              rank=init_signal_ranks[bn], \n",
    "                                              R=R)\n",
    "    \n",
    "    return wedin_samples"
   ]
  },
  {
   "cell_type": "code",
   "execution_count": 7,
   "metadata": {
    "collapsed": true
   },
   "outputs": [],
   "source": [
    "samples_per_computer = 10\n",
    "NUM_COMPS = 100\n",
    "blocks = {'x': X, 'y': Y}\n",
    "init_signal_ranks = {'x': 2, 'y': 3}\n",
    "\n",
    "num_obs = blocks['x'].shape[0]\n",
    "signal_ranks=list(init_signal_ranks.values())\n",
    "\n",
    "x_pca = PCA().fit(blocks['x'])\n",
    "y_pca = PCA().fit(blocks['y'])\n",
    "precomp_init_svd = {'x': x_pca.get_UDV(), 'y': y_pca.get_UDV()}\n",
    "\n",
    "wedin_samples = {bn: np.array([]) for bn in blocks.keys()}\n",
    "random_samples = np.array([])\n",
    "\n",
    "for _ in range(NUM_COMPS): # pretend each iteration is a different computer\n",
    "    comp_rand = sample_randdir(num_obs, signal_ranks, R=samples_per_computer)\n",
    "    comp_wedin = one_computer_wedin_samples(blocks, precomp_init_svd, init_signal_ranks, R=samples_per_computer)\n",
    "    \n",
    "    random_samples = np.concatenate([random_samples, comp_rand])\n",
    "    \n",
    "    for bn in blocks.keys():\n",
    "        wedin_samples[bn] = np.concatenate([wedin_samples[bn], comp_wedin[bn]])\n",
    "    "
   ]
  },
  {
   "cell_type": "code",
   "execution_count": 8,
   "metadata": {},
   "outputs": [
    {
     "data": {
      "text/plain": [
       "1000"
      ]
     },
     "execution_count": 8,
     "metadata": {},
     "output_type": "execute_result"
    }
   ],
   "source": [
    "len(random_samples)\n",
    "NUM_COMPS * samples_per_computer"
   ]
  },
  {
   "cell_type": "code",
   "execution_count": 9,
   "metadata": {},
   "outputs": [
    {
     "name": "stdout",
     "output_type": "stream",
     "text": [
      "CPU times: user 386 ms, sys: 82.1 ms, total: 468 ms\n",
      "Wall time: 123 ms\n"
     ]
    },
    {
     "data": {
      "text/plain": [
       "AJIVE, joint rank: 1, block x indiv rank: 1, block y indiv rank: 2"
      ]
     },
     "execution_count": 9,
     "metadata": {},
     "output_type": "execute_result"
    }
   ],
   "source": [
    "ajive= AJIVE(init_signal_ranks=init_signal_ranks,\n",
    "              precomp_wedin_samples=wedin_samples,\n",
    "              precomp_randdir_samples=random_samples)\n",
    "\n",
    "%time ajive.fit(blocks=blocks, precomp_init_svd=precomp_init_svd)"
   ]
  }
 ],
 "metadata": {
  "kernelspec": {
   "display_name": "Python 3",
   "language": "python",
   "name": "python3"
  },
  "language_info": {
   "codemirror_mode": {
    "name": "ipython",
    "version": 3
   },
   "file_extension": ".py",
   "mimetype": "text/x-python",
   "name": "python",
   "nbconvert_exporter": "python",
   "pygments_lexer": "ipython3",
   "version": "3.6.1"
  }
 },
 "nbformat": 4,
 "nbformat_minor": 2
}
